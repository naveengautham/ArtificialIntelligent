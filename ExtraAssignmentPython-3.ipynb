{
 "cells": [
  {
   "cell_type": "code",
   "execution_count": 5,
   "id": "b1259d8b-f04e-4580-843f-4af7d9f5c79c",
   "metadata": {},
   "outputs": [
    {
     "name": "stdout",
     "output_type": "stream",
     "text": [
      "value: 10\n",
      "correct\n"
     ]
    }
   ],
   "source": [
    "# print 'CORRECT' if i == 10\n",
    "\n",
    "for i in range(0,11):\n",
    "    if i==10:\n",
    "        print(f'value:',i)\n",
    "        print('correct')"
   ]
  },
  {
   "cell_type": "code",
   "execution_count": 13,
   "id": "0ae0e68d-c2a3-4e29-ac25-5ba7e273c749",
   "metadata": {},
   "outputs": [
    {
     "name": "stdin",
     "output_type": "stream",
     "text": [
      "Enter the password: HOPE@123\n"
     ]
    },
    {
     "name": "stdout",
     "output_type": "stream",
     "text": [
      "Your password is correct\n"
     ]
    }
   ],
   "source": [
    "# Check the password, using if and else\n",
    "\n",
    "def checkpassword(password):\n",
    "    if password==\"HOPE@123\":\n",
    "        print(\"Your password is correct\")\n",
    "    else:\n",
    "        print(\"Incorrect\")\n",
    "        \n",
    "checkpassword(input(\"Enter the password:\"))"
   ]
  },
  {
   "cell_type": "code",
   "execution_count": 18,
   "id": "40f7ee68-901b-4b98-b5d2-dfc689914b1b",
   "metadata": {},
   "outputs": [
    {
     "name": "stdout",
     "output_type": "stream",
     "text": [
      "age: 18\n",
      "adult\n"
     ]
    }
   ],
   "source": [
    "# Catagory the people by their age like children, adult, citizen, senior citizen..\n",
    "\n",
    "def category_wise(age):\n",
    "    if age<18:\n",
    "        print(f'age:',age)\n",
    "        print(\"children\")\n",
    "    elif age<25:\n",
    "        print(f'age:',age)\n",
    "        print(\"adult\")\n",
    "    elif age<50:\n",
    "        print(f'age:',age)\n",
    "        print(\"citizen\")\n",
    "    else:\n",
    "        print(f'age:',age)\n",
    "        print(\"senior citizen\")\n",
    "        \n",
    "category_wise(18)       "
   ]
  },
  {
   "cell_type": "code",
   "execution_count": 22,
   "id": "c0754253-646a-4215-bb73-466f499740e1",
   "metadata": {},
   "outputs": [
    {
     "name": "stdout",
     "output_type": "stream",
     "text": [
      "Enter any number: 9\n",
      "No is positive\n"
     ]
    }
   ],
   "source": [
    "# Find whether given number is positive or negative\n",
    "\n",
    "def check_number(num):\n",
    "    if num>0:\n",
    "        print(f'Enter any number:',num)\n",
    "        print(\"No is positive\")\n",
    "    else:\n",
    "        print(\"No is negative\")\n",
    "        \n",
    "check_number(9)     "
   ]
  },
  {
   "cell_type": "code",
   "execution_count": 25,
   "id": "45d9da7f-c5a4-4f2f-867e-6438cf098d53",
   "metadata": {},
   "outputs": [
    {
     "name": "stdout",
     "output_type": "stream",
     "text": [
      "No is not divisible by 5\n"
     ]
    }
   ],
   "source": [
    "# Check whether the given number is divisible by 5\n",
    "def divisible(num):\n",
    "    if num % 5==0:\n",
    "        print(f'Enter a number to check:',num)\n",
    "        print('No is divisible by 5')\n",
    "    else:\n",
    "        print('No is not divisible by 5')\n",
    "divisible(501)      "
   ]
  },
  {
   "cell_type": "code",
   "execution_count": null,
   "id": "c9cfb20c-6486-4af7-a657-61b7af4a6622",
   "metadata": {},
   "outputs": [],
   "source": []
  }
 ],
 "metadata": {
  "kernelspec": {
   "display_name": "Python 3 (ipykernel)",
   "language": "python",
   "name": "python3"
  },
  "language_info": {
   "codemirror_mode": {
    "name": "ipython",
    "version": 3
   },
   "file_extension": ".py",
   "mimetype": "text/x-python",
   "name": "python",
   "nbconvert_exporter": "python",
   "pygments_lexer": "ipython3",
   "version": "3.12.7"
  }
 },
 "nbformat": 4,
 "nbformat_minor": 5
}

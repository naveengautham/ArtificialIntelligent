{
 "cells": [
  {
   "cell_type": "code",
   "execution_count": null,
   "id": "1fd92f88-adf5-43d9-b34a-0855352a5526",
   "metadata": {},
   "outputs": [],
   "source": []
  }
 ],
 "metadata": {
  "kernelspec": {
   "display_name": "",
   "name": ""
  },
  "language_info": {
   "name": ""
  }
 },
 "nbformat": 4,
 "nbformat_minor": 5
}

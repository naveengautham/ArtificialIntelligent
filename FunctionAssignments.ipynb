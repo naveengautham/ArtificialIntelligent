{
 "cells": [
  {
   "cell_type": "code",
   "execution_count": 16,
   "id": "50e194b9-7c45-4d9d-9182-f621b56fe3f4",
   "metadata": {},
   "outputs": [
    {
     "name": "stdout",
     "output_type": "stream",
     "text": [
      "Machine Learning\n",
      "Neural Networks\n",
      "Vision\n",
      "Robotics\n",
      "Speech Processing\n",
      "Natural Language Processing\n",
      "None\n"
     ]
    }
   ],
   "source": [
    "#Sub-fields in AI are:\n",
    "\n",
    "sub_fields=['Machine Learning','Neural Networks','Vision','Robotics','Speech Processing','Natural Language Processing']\n",
    "def subfields():\n",
    "    for item in sub_fields:\n",
    "        print(item)\n",
    "item_list=subfields()\n",
    "print(item_list)    "
   ]
  },
  {
   "cell_type": "code",
   "execution_count": 6,
   "id": "16cea4d6-6d68-4758-8fa4-45b5399ceba0",
   "metadata": {},
   "outputs": [],
   "source": [
    "def odd_Even(num):\n",
    "    if num%2==0:\n",
    "        result=\"Even Number\"\n",
    "    else:\n",
    "        result=\"Odd Number\"\n",
    "    return result"
   ]
  },
  {
   "cell_type": "code",
   "execution_count": 12,
   "id": "cd12122c-6976-41aa-a012-d3ee3c288be5",
   "metadata": {},
   "outputs": [
    {
     "name": "stdin",
     "output_type": "stream",
     "text": [
      "Enter a number: 52452\n"
     ]
    },
    {
     "name": "stdout",
     "output_type": "stream",
     "text": [
      "Even Number\n"
     ]
    }
   ],
   "source": [
    "check_results=odd_Even(int(input(\"Enter a number:\")))\n",
    "print(check_results)"
   ]
  },
  {
   "cell_type": "code",
   "execution_count": 25,
   "id": "d25ce383-6b24-4614-9c75-15ca1bbc71bb",
   "metadata": {},
   "outputs": [
    {
     "name": "stdout",
     "output_type": "stream",
     "text": [
      "NOT ELIGIBLE\n"
     ]
    }
   ],
   "source": [
    "def eligibleForMarriage(gender,ageLimit):\n",
    "    if(gender == \"Male\" and ageLimit>21):\n",
    "        print(\"ELIGIBLE\")\n",
    "    elif(gender==\"Female\" and ageLimit>18):\n",
    "        print(\"ELIGIBLE\")\n",
    "    else:\n",
    "        print(\"NOT ELIGIBLE\")\n",
    "        \n",
    "eligibleForMarriage(\"Female\",10)\n",
    "        "
   ]
  },
  {
   "cell_type": "code",
   "execution_count": 52,
   "id": "ffe42d62-eb81-4708-a0b1-42064b1a11df",
   "metadata": {},
   "outputs": [
    {
     "data": {
      "text/plain": [
       "93.6"
      ]
     },
     "execution_count": 52,
     "metadata": {},
     "output_type": "execute_result"
    }
   ],
   "source": [
    "subjects=[98,87,95,95,93]\n",
    "def percentage():\n",
    "    total=0\n",
    "    for mark in subjects:\n",
    "        total=total+mark\n",
    "        percent= total/len(subjects)\n",
    "    return percent\n",
    "\n",
    "percentage()\n",
    "        "
   ]
  },
  {
   "cell_type": "code",
   "execution_count": 65,
   "id": "1e0f27fb-f7a1-47cf-9519-f66a50bf248a",
   "metadata": {},
   "outputs": [
    {
     "name": "stdout",
     "output_type": "stream",
     "text": [
      "perimeter\n",
      "10\n"
     ]
    }
   ],
   "source": [
    "height=32\n",
    "breadth=34\n",
    "height1=2\n",
    "height2=4\n",
    "breadth=4 \n",
    "def triangle(triangle):\n",
    "    print(triangle)\n",
    "    if(triangle==\"area\"):\n",
    "        print(int(height*breadth/2))\n",
    "    elif(triangle==\"perimeter\"):\n",
    "        print(height1+height2+breadth) \n",
    "    else:\n",
    "        print(\"please provide valid data\")\n",
    "\n",
    "triangle(\"perimeter\")\n",
    "    "
   ]
  },
  {
   "cell_type": "code",
   "execution_count": null,
   "id": "95076a3b-1d67-468a-ba72-c8c04dafed68",
   "metadata": {},
   "outputs": [],
   "source": []
  }
 ],
 "metadata": {
  "kernelspec": {
   "display_name": "Python 3 (ipykernel)",
   "language": "python",
   "name": "python3"
  },
  "language_info": {
   "codemirror_mode": {
    "name": "ipython",
    "version": 3
   },
   "file_extension": ".py",
   "mimetype": "text/x-python",
   "name": "python",
   "nbconvert_exporter": "python",
   "pygments_lexer": "ipython3",
   "version": "3.12.7"
  }
 },
 "nbformat": 4,
 "nbformat_minor": 5
}

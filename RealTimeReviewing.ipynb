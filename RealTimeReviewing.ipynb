{
 "cells": [
  {
   "cell_type": "code",
   "execution_count": 7,
   "id": "6d32c52a-a29c-4915-a727-3bdaf280d323",
   "metadata": {},
   "outputs": [],
   "source": [
    "from utils import get_open_api_key\n",
    "OPEN_API_KEY= get_open_api_key()\n",
    "llm_config={\n",
    "    \"config_list\":[{\n",
    "        \"model\":\"gpt-3.5-turbo\",\n",
    "        \"api_key\":OPEN_API_KEY\n",
    "    }]\n",
    "}"
   ]
  },
  {
   "cell_type": "code",
   "execution_count": 8,
   "id": "5effd67d-2776-4c0e-a011-9f288308c72f",
   "metadata": {},
   "outputs": [],
   "source": [
    "from autogen import ConversableAgent"
   ]
  },
  {
   "cell_type": "code",
   "execution_count": 9,
   "id": "9f5a9e3c-7b1e-4de9-bcaf-be143f6ef30e",
   "metadata": {},
   "outputs": [],
   "source": [
    "junior_developer= ConversableAgent(name=\"junior_developer\",llm_config=llm_config)\n",
    "tester= ConversableAgent(name=\"tester\",llm_config=llm_config)\n",
    "senior_developer= ConversableAgent(name=\"senior_developer\",llm_config=llm_config)"
   ]
  },
  {
   "cell_type": "code",
   "execution_count": 21,
   "id": "f4601327-0ed6-4e65-ab14-b5c90af29781",
   "metadata": {},
   "outputs": [
    {
     "name": "stdout",
     "output_type": "stream",
     "text": [
      "\u001b[31m\n",
      ">>>>>>>> USING AUTO REPLY...\u001b[0m\n",
      "\u001b[31m\n",
      ">>>>>>>> USING AUTO REPLY...\u001b[0m\n",
      "\u001b[31m\n",
      ">>>>>>>> USING AUTO REPLY...\u001b[0m\n"
     ]
    }
   ],
   "source": [
    "junior= junior_developer.generate_reply(messages=[{\"role\":\"user\",\"content\":\"write a javascript program to find an even number in an array\"}])\n",
    "tester_role= tester.generate_reply(messages=[{\"role\":\"user\",\"content\":f\"check the code which was written by junior and provide any feedback to correct it,{junior_developer}\"}])\n",
    "senior= senior_developer.generate_reply(messages=[{\"role\":\"user\",\"content\":f\"review and modify the code based on tester_role instruction,{tester_role}\"}])"
   ]
  },
  {
   "cell_type": "code",
   "execution_count": 22,
   "id": "f7c0d9ee-ae62-42de-857d-cb0ce83ab695",
   "metadata": {},
   "outputs": [
    {
     "name": "stdout",
     "output_type": "stream",
     "text": [
      "junior instruction {'Certainly! Here\\'s a simple JavaScript program that finds and prints all the even numbers in an array:\\n\\n```javascript\\nfunction findEvenNumbers(arr) {\\n    const evenNumbers = arr.filter(num => num % 2 === 0);\\n    \\n    return evenNumbers;\\n}\\n\\nconst numbers = [1, 2, 3, 4, 5, 6, 7, 8, 9, 10];\\nconst evenNumbers = findEvenNumbers(numbers);\\n\\nconsole.log(\"Even numbers in the array:\", evenNumbers);\\n```\\n\\nYou can customize the `numbers` array with the numbers you want to test.'}\n",
      "tester instruction {'Of course! Please provide me with the code that was written by the junior developer so I can review it and provide feedback.'}\n",
      "senior instruction {'Sure, please provide me with the code written by the junior developer for the tester_role instruction so I can review it and suggest any modifications or improvements.'}\n"
     ]
    }
   ],
   "source": [
    "print(f\"junior instruction\", {junior})\n",
    "print(f\"tester instruction\", {tester_role})\n",
    "print(f\"senior instruction\", {senior})"
   ]
  },
  {
   "cell_type": "code",
   "execution_count": null,
   "id": "e52d402b-f16f-45c2-b31e-714d9710cbcb",
   "metadata": {},
   "outputs": [],
   "source": []
  }
 ],
 "metadata": {
  "kernelspec": {
   "display_name": "Python 3 (ipykernel)",
   "language": "python",
   "name": "python3"
  },
  "language_info": {
   "codemirror_mode": {
    "name": "ipython",
    "version": 3
   },
   "file_extension": ".py",
   "mimetype": "text/x-python",
   "name": "python",
   "nbconvert_exporter": "python",
   "pygments_lexer": "ipython3",
   "version": "3.12.7"
  }
 },
 "nbformat": 4,
 "nbformat_minor": 5
}

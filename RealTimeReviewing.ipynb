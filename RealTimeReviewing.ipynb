{
 "cells": [
  {
   "cell_type": "code",
   "execution_count": 30,
   "id": "6d32c52a-a29c-4915-a727-3bdaf280d323",
   "metadata": {},
   "outputs": [],
   "source": [
    "from utils import get_open_api_key\n",
    "OPEN_API_KEY= get_open_api_key()\n",
    "llm_config={\n",
    "    \"config_list\":[{\n",
    "        \"model\":\"gpt-3.5-turbo\",\n",
    "        \"api_key\":OPEN_API_KEY\n",
    "    }]\n",
    "}"
   ]
  },
  {
   "cell_type": "code",
   "execution_count": 31,
   "id": "5effd67d-2776-4c0e-a011-9f288308c72f",
   "metadata": {},
   "outputs": [],
   "source": [
    "from autogen import ConversableAgent"
   ]
  },
  {
   "cell_type": "code",
   "execution_count": 32,
   "id": "9f5a9e3c-7b1e-4de9-bcaf-be143f6ef30e",
   "metadata": {},
   "outputs": [],
   "source": [
    "junior_developer= ConversableAgent(name=\"junior_developer\",llm_config=llm_config)\n",
    "tester= ConversableAgent(name=\"tester\",llm_config=llm_config)\n",
    "senior_developer= ConversableAgent(name=\"senior_developer\",llm_config=llm_config)"
   ]
  },
  {
   "cell_type": "code",
   "execution_count": 41,
   "id": "f4601327-0ed6-4e65-ab14-b5c90af29781",
   "metadata": {},
   "outputs": [
    {
     "name": "stdout",
     "output_type": "stream",
     "text": [
      "\u001b[31m\n",
      ">>>>>>>> USING AUTO REPLY...\u001b[0m\n",
      "\u001b[31m\n",
      ">>>>>>>> USING AUTO REPLY...\u001b[0m\n",
      "\u001b[31m\n",
      ">>>>>>>> USING AUTO REPLY...\u001b[0m\n"
     ]
    }
   ],
   "source": [
    "junior= junior_developer.generate_reply(messages=[{\"role\":\"user\",\"content\":\"write a javascript program to find an even number in an array and displaythe program with separate line\"}])\n",
    "tester_role= tester.generate_reply(messages=[{\"role\":\"user\",\"content\":f\" Check the code and provide some suggestion to the senior developer and display the text in an new line,{junior}\"}])\n",
    "senior= senior_developer.generate_reply(messages=[{\"role\":\"user\",\"content\":f\"review and modify the code based on tester_role instruction,{tester_role}\"}])"
   ]
  },
  {
   "cell_type": "code",
   "execution_count": 42,
   "id": "f7c0d9ee-ae62-42de-857d-cb0ce83ab695",
   "metadata": {},
   "outputs": [
    {
     "name": "stdout",
     "output_type": "stream",
     "text": [
      "junior instruction {\"Here is a JavaScript program that finds an even number in an array and displays it:\\n\\n```javascript\\n// Input array\\nconst numbers = [1, 3, 6, 8, 5, 10];\\n\\n// Function to find even number\\nfunction findEvenNumber(arr) {\\n    for (let i = 0; i < arr.length; i++) {\\n        if (arr[i] % 2 === 0) {\\n            return arr[i];\\n        }\\n    }\\n    return null;\\n}\\n\\n// Find and display even number\\nconst evenNumber = findEvenNumber(numbers);\\nif (evenNumber) {\\n    console.log('Even number found: ' + evenNumber);\\n} else {\\n    console.log('No even number found in the array.');\\n}\\n```\\n\\nThis program defines an array of numbers, searches for an even number in the array, and displays the result on the console in a separate line.\"}\n",
      "tester instruction {'Here are some suggestions for the senior developer to improve the code:\\n\\n1. If the requirement is to find and display all even numbers in the array, consider modifying the `findEvenNumber` function to store all even numbers in a separate array and return that array.\\n\\n2. Consider using a more descriptive function name that reflects the action being performed, such as `findAllEvenNumbers` instead of `findEvenNumber`.\\n\\n3. Add comments to explain the purpose of the code sections and improve code readability.\\n\\n4. Consider handling cases where there are multiple even numbers in the array. The current implementation only returns the first even number found.\\n\\n5. Use `const` for variables that do not need to be reassigned to enforce immutability where possible.\\n\\nWould you like to know more about any specific aspect of the code or JavaScript programming in general?'}\n",
      "senior instruction {'Based on the suggestions provided by the tester_role, here is a revised version of the code:\\n\\n```javascript\\n// Function to find and return all even numbers in the array\\nfunction findAllEvenNumbers(arr) {\\n    const evenNumbers = [];\\n    for (let i = 0; i < arr.length; i++) {\\n        if (arr[i] % 2 === 0) {\\n            evenNumbers.push(arr[i]);\\n        }\\n    }\\n    return evenNumbers;\\n}\\n\\n// Example array\\nconst numbers = [1, 2, 3, 4, 5, 6, 7, 8, 9, 10];\\n\\n// Finding all even numbers in the array\\nconst evenNumbersArray = findAllEvenNumbers(numbers);\\n\\nconsole.log(\"Even Numbers in the Array: \", evenNumbersArray);\\n```\\n\\nThis revised code addresses the suggestions provided by the tester_role. It now finds and returns all even numbers in the array, uses a more descriptive function name, adds comments for clarity, handles cases with multiple even numbers, and uses `const` for variables where possible.\\n\\nLet me know if you have any more questions or if you would like further assistance with the code or JavaScript programming.'}\n"
     ]
    }
   ],
   "source": [
    "print(f\"junior instruction\", {junior})\n",
    "print(f\"tester instruction\", {tester_role})\n",
    "print(f\"senior instruction\", {senior})"
   ]
  },
  {
   "cell_type": "code",
   "execution_count": null,
   "id": "e52d402b-f16f-45c2-b31e-714d9710cbcb",
   "metadata": {},
   "outputs": [],
   "source": []
  }
 ],
 "metadata": {
  "kernelspec": {
   "display_name": "Python 3 (ipykernel)",
   "language": "python",
   "name": "python3"
  },
  "language_info": {
   "codemirror_mode": {
    "name": "ipython",
    "version": 3
   },
   "file_extension": ".py",
   "mimetype": "text/x-python",
   "name": "python",
   "nbconvert_exporter": "python",
   "pygments_lexer": "ipython3",
   "version": "3.12.7"
  }
 },
 "nbformat": 4,
 "nbformat_minor": 5
}

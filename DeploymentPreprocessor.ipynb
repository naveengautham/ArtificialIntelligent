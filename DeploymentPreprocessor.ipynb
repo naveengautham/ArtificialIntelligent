{
 "cells": [
  {
   "cell_type": "code",
   "execution_count": 1,
   "id": "b608de3e-2750-44b8-802d-40f8c0e63cef",
   "metadata": {},
   "outputs": [],
   "source": [
    "import pickle"
   ]
  },
  {
   "cell_type": "code",
   "execution_count": 2,
   "id": "2b3862d6-5b56-4c04-a6ab-4d1defd22d59",
   "metadata": {},
   "outputs": [],
   "source": [
    "import pandas as pd"
   ]
  },
  {
   "cell_type": "code",
   "execution_count": 3,
   "id": "73d3db38-e5a0-42f6-b411-6406bd86fdb3",
   "metadata": {},
   "outputs": [],
   "source": [
    "dataset= pd.read_csv('insurance_pre.csv')"
   ]
  },
  {
   "cell_type": "code",
   "execution_count": 4,
   "id": "0e3bf16b-fd14-45c7-926d-43f6d4e9ecec",
   "metadata": {},
   "outputs": [
    {
     "name": "stderr",
     "output_type": "stream",
     "text": [
      "/var/folders/5p/vw84g1vx2dd89h7yyyzf7lg40000gr/T/ipykernel_14564/1560333441.py:2: FutureWarning: Downcasting behavior in `replace` is deprecated and will be removed in a future version. To retain the old behavior, explicitly call `result.infer_objects(copy=False)`. To opt-in to the future behavior, set `pd.set_option('future.no_silent_downcasting', True)`\n",
      "  dataset=dataset.replace({True:1,False:0})\n"
     ]
    }
   ],
   "source": [
    "dataset= pd.get_dummies(dataset)\n",
    "dataset=dataset.replace({True:1,False:0})"
   ]
  },
  {
   "cell_type": "code",
   "execution_count": 5,
   "id": "10629bee-9210-4c95-a048-e1cec07bb493",
   "metadata": {},
   "outputs": [],
   "source": [
    "independent= dataset[['age', 'bmi', 'children','sex_male','smoker_no',]]\n",
    "dependent=dataset[['charges']]\n",
    "from sklearn.model_selection import train_test_split\n",
    "X_train,X_test,y_train,y_test= train_test_split(independent,dependent,test_size=0.30,random_state=0)"
   ]
  },
  {
   "cell_type": "code",
   "execution_count": 6,
   "id": "2c864f65-08d4-43c6-a3e1-3490b8595920",
   "metadata": {},
   "outputs": [
    {
     "data": {
      "text/plain": [
       "array([[-1.5330973 , -0.40713453, -0.89833872, -0.97676557,  0.50466988],\n",
       "       [-0.03364163,  0.32855417, -0.89833872, -0.97676557,  0.50466988],\n",
       "       [ 0.89459283,  2.56690911,  3.25603402, -0.97676557,  0.50466988],\n",
       "       ...,\n",
       "       [ 0.03776102, -0.91016269, -0.89833872,  1.02378711,  0.50466988],\n",
       "       [-1.46169465,  0.76659782, -0.89833872,  1.02378711,  0.50466988],\n",
       "       [-0.46205754, -1.96596021, -0.06746417, -0.97676557,  0.50466988]])"
      ]
     },
     "execution_count": 6,
     "metadata": {},
     "output_type": "execute_result"
    }
   ],
   "source": [
    "from sklearn.preprocessing import StandardScaler\n",
    "sc= StandardScaler()\n",
    "X_train= sc.fit_transform(X_train)\n",
    "X_test=sc.transform(X_test)\n",
    "X_train"
   ]
  },
  {
   "cell_type": "code",
   "execution_count": 7,
   "id": "c1dea8cf-be48-4c47-84be-121790f387f7",
   "metadata": {},
   "outputs": [
    {
     "name": "stderr",
     "output_type": "stream",
     "text": [
      "/opt/anaconda3/lib/python3.12/site-packages/sklearn/base.py:493: UserWarning: X does not have valid feature names, but StandardScaler was fitted with feature names\n",
      "  warnings.warn(\n"
     ]
    },
    {
     "data": {
      "text/plain": [
       "array([[ 6.85843057e+01,  3.15976715e+02,  2.49172530e+03,\n",
       "        -9.76765571e-01,  5.04669881e-01]])"
      ]
     },
     "execution_count": 7,
     "metadata": {},
     "output_type": "execute_result"
    }
   ],
   "source": [
    "pre_input=sc.transform([[1000,2000,3000,0,1]])\n",
    "pre_input"
   ]
  },
  {
   "cell_type": "code",
   "execution_count": 8,
   "id": "24f3cc14-97ad-4b1a-84d9-bb8b3b6c4967",
   "metadata": {},
   "outputs": [
    {
     "data": {
      "text/plain": [
       "array([14948.96186375])"
      ]
     },
     "execution_count": 8,
     "metadata": {},
     "output_type": "execute_result"
    }
   ],
   "source": [
    "loaded_model=pickle.load(open('finalized_advanced_preprocess.sav','rb'))\n",
    "result= loaded_model.predict(pre_input)\n",
    "result"
   ]
  },
  {
   "cell_type": "code",
   "execution_count": null,
   "id": "32e87f5d-2086-4e88-a7be-1e977258e75a",
   "metadata": {},
   "outputs": [],
   "source": []
  }
 ],
 "metadata": {
  "kernelspec": {
   "display_name": "Python 3 (ipykernel)",
   "language": "python",
   "name": "python3"
  },
  "language_info": {
   "codemirror_mode": {
    "name": "ipython",
    "version": 3
   },
   "file_extension": ".py",
   "mimetype": "text/x-python",
   "name": "python",
   "nbconvert_exporter": "python",
   "pygments_lexer": "ipython3",
   "version": "3.12.7"
  }
 },
 "nbformat": 4,
 "nbformat_minor": 5
}

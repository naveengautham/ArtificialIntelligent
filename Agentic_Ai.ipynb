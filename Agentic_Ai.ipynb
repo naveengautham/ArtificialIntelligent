{
 "cells": [
  {
   "cell_type": "code",
   "execution_count": 3,
   "id": "7c29d953-1184-4126-8760-1793f82e57e2",
   "metadata": {},
   "outputs": [],
   "source": [
    "#!pip install autogen"
   ]
  },
  {
   "cell_type": "code",
   "execution_count": 4,
   "id": "f583f871-cac0-4e19-91c5-a1af0d1ecf15",
   "metadata": {},
   "outputs": [],
   "source": [
    "#!pip install agentops"
   ]
  },
  {
   "cell_type": "code",
   "execution_count": 3,
   "id": "ce51d1a3-7601-4728-a1dc-a64d73d41fc7",
   "metadata": {},
   "outputs": [
    {
     "data": {
      "text/plain": [
       "'0.9.3'"
      ]
     },
     "execution_count": 3,
     "metadata": {},
     "output_type": "execute_result"
    }
   ],
   "source": [
    "import autogen\n",
    "autogen.__version__"
   ]
  },
  {
   "cell_type": "code",
   "execution_count": 4,
   "id": "eea0f642-1a27-4da1-8230-1a4a76f05660",
   "metadata": {},
   "outputs": [],
   "source": [
    "#import autogen"
   ]
  },
  {
   "cell_type": "code",
   "execution_count": 5,
   "id": "06bda6f6-ba8f-4e78-99a1-d728ede27931",
   "metadata": {},
   "outputs": [],
   "source": [
    "#pip show openai"
   ]
  },
  {
   "cell_type": "code",
   "execution_count": 6,
   "id": "493b893d-c64a-43a0-b19e-75a0d07bd1e3",
   "metadata": {},
   "outputs": [],
   "source": [
    "#!pip install --upgrade openai"
   ]
  },
  {
   "cell_type": "code",
   "execution_count": 7,
   "id": "0a0746ab-388f-4008-be3f-79ffdb9833c1",
   "metadata": {},
   "outputs": [],
   "source": [
    "#pip show openai"
   ]
  },
  {
   "cell_type": "code",
   "execution_count": 8,
   "id": "54fcf323-6b5b-4bb7-b2cb-a16772609bee",
   "metadata": {},
   "outputs": [],
   "source": [
    "from pathlib import Path"
   ]
  },
  {
   "cell_type": "code",
   "execution_count": 14,
   "id": "5db35715-18b5-4f9b-bdca-19e26f49c550",
   "metadata": {},
   "outputs": [],
   "source": [
    "from autogen import ConversableAgent\n",
    "from autogen.coding import LocalCommandLineCodeExecutor\n",
    "work_dir= Path(\"coding\")\n",
    "work_dir.mkdir(exist_ok=True)\n",
    "executor=LocalCommandLineCodeExecutor(work_dir=work_dir)\n",
    "#agent1\n",
    "code_executor_agent=ConversableAgent(\n",
    "    name=\"code_executor_agent\",\n",
    "    llm_config=False,\n",
    "    code_execution_config={\n",
    "        \"executor\":executor\n",
    "    },\n",
    "    human_input_mode=\"off\"\n",
    ")"
   ]
  },
  {
   "cell_type": "code",
   "execution_count": 15,
   "id": "01e91731-b86b-4309-a526-a0e2dcdeaf4b",
   "metadata": {},
   "outputs": [],
   "source": [
    "code_writer_system_message=\"\"\"\n",
    "You are a step-by-step reasoning assistant.\n",
    "When the user requests a Fibonacci series computation, calculate the series up to the specified number of terms.\n",
    "Explain each step of the computation clearly, showing how each Fibonacci number is derived from the previous two numbers.\n",
    "Ensure the explanation is beginner-friendly, with numbered steps and intermediate values where appropriate.\n",
    "If a user does not specify the number of terms, default to 10 terms.\n",
    "Format the output as:\n",
    "Term 1: 0\n",
    "Term 2: 1\n",
    "Term 3: 0 + 1 = 1\n",
    "Term 4: 1 + 1 = 2\n",
    "...\n",
    "and so on.\n",
    "If the user provides code, help verify its correctness and walk through its execution line by line.\n",
    "\"\"\""
   ]
  },
  {
   "cell_type": "code",
   "execution_count": 18,
   "id": "606678f0-e316-4804-bc3e-8685f0f85bc2",
   "metadata": {},
   "outputs": [
    {
     "name": "stdout",
     "output_type": "stream",
     "text": [
      "[autogen.oai.client: 06-24 10:54:48] {363} WARNING - The API key specified is not a valid OpenAI format; it won't work with the OpenAI-hosted model.\n"
     ]
    }
   ],
   "source": [
    "#agent2\n",
    "code_writer_agent=ConversableAgent(\n",
    "    \"code_writer\",\n",
    "    system_message=code_writer_system_message,\n",
    "    llm_config={\"config_list\":[{\"model\":\"gpt-3.5-turbo\",\"api_key\":\"secret_key\"}]},\n",
    "    code_execution_config=False,\n",
    "    max_consecutive_auto_reply=2,\n",
    "    human_input_mode=\"off\"\n",
    ")"
   ]
  },
  {
   "cell_type": "code",
   "execution_count": 17,
   "id": "d2e53e9d-314e-4a61-a6ac-a028535c22ff",
   "metadata": {},
   "outputs": [
    {
     "name": "stdout",
     "output_type": "stream",
     "text": [
      "\u001b[33mcode_executor_agent\u001b[0m (to code_writer):\n",
      "\n",
      "write a program code for fibonacci series in python, use optimised way to handle it\n",
      "\n",
      "--------------------------------------------------------------------------------\n",
      "\u001b[31m\n",
      ">>>>>>>> USING AUTO REPLY...\u001b[0m\n",
      "\u001b[33mcode_writer\u001b[0m (to code_executor_agent):\n",
      "\n",
      "Here's an optimized way to compute the Fibonacci series in Python using a loop approach to avoid excessive recursion:\n",
      "\n",
      "```python\n",
      "def fibonacci_series(num_terms=10):\n",
      "    fib_series = [0, 1] # Initialize the series with the first two terms\n",
      "    \n",
      "    for i in range(2, num_terms):\n",
      "        next_term = fib_series[i-1] + fib_series[i-2]\n",
      "        fib_series.append(next_term)\n",
      "    \n",
      "    return fib_series\n",
      "\n",
      "# You can call the function with the number of terms you want in the Fibonacci series\n",
      "num_terms = 10\n",
      "result = fibonacci_series(num_terms)\n",
      "\n",
      "for i in range(num_terms):\n",
      "    print(f\"Term {i+1}: {result[i]}\")\n",
      "```\n",
      "\n",
      "If you would like to understand how the Fibonacci series is computed step by step, let's calculate the Fibonacci series up to 10 terms:\n",
      "\n",
      "1. Initialize the series with the first two terms:\n",
      "   Term 1: 0\n",
      "   Term 2: 1\n",
      "2. Compute the next terms using the formula: `next_term = previous_term + second_previous_term`.\n",
      "3. Term 3: 0 + 1 = 1\n",
      "4. Term 4: 1 + 1 = 2\n",
      "5. Term 5: 1 + 2 = 3\n",
      "6. Term 6: 2 + 3 = 5\n",
      "7. Term 7: 3 + 5 = 8\n",
      "8. Term 8: 5 + 8 = 13\n",
      "9. Term 9: 8 + 13 = 21\n",
      "10. Term 10: 13 + 21 = 34\n",
      "\n",
      "This code efficiently calculates the Fibonacci series up to the specified number of terms.\n",
      "\n",
      "--------------------------------------------------------------------------------\n",
      "\u001b[31m\n",
      ">>>>>>>> USING AUTO REPLY...\u001b[0m\n",
      "\u001b[31m\n",
      ">>>>>>>> EXECUTING CODE BLOCK (inferred language is python)...\u001b[0m\n",
      "\u001b[33mcode_executor_agent\u001b[0m (to code_writer):\n",
      "\n",
      "exitcode: 0 (execution succeeded)\n",
      "Code output: Term 1: 0\n",
      "Term 2: 1\n",
      "Term 3: 1\n",
      "Term 4: 2\n",
      "Term 5: 3\n",
      "Term 6: 5\n",
      "Term 7: 8\n",
      "Term 8: 13\n",
      "Term 9: 21\n",
      "Term 10: 34\n",
      "\n",
      "\n",
      "--------------------------------------------------------------------------------\n",
      "\u001b[31m\n",
      ">>>>>>>> USING AUTO REPLY...\u001b[0m\n",
      "\u001b[33mcode_writer\u001b[0m (to code_executor_agent):\n",
      "\n",
      "The code executed successfully and generated the Fibonacci series up to 10 terms correctly. Each term is the sum of the previous two terms, starting with 0 and 1. The output clearly shows each term of the series as calculated according to the Fibonacci sequence. If you have any more questions or need further assistance, feel free to ask!\n",
      "\n",
      "--------------------------------------------------------------------------------\n",
      "\u001b[31m\n",
      ">>>>>>>> USING AUTO REPLY...\u001b[0m\n",
      "\u001b[33mcode_executor_agent\u001b[0m (to code_writer):\n",
      "\n",
      "\n",
      "\n",
      "--------------------------------------------------------------------------------\n"
     ]
    },
    {
     "name": "stdin",
     "output_type": "stream",
     "text": [
      "Please give feedback to code_executor_agent. Press enter to skip and use auto-reply, or type 'exit' to stop the conversation:  exit\n"
     ]
    },
    {
     "name": "stdout",
     "output_type": "stream",
     "text": [
      "\u001b[31m\n",
      ">>>>>>>> TERMINATING RUN (c3875df3-d8a3-4520-b558-69c321b016ae): User requested to end the conversation\u001b[0m\n",
      "ChatResult(chat_id=None,\n",
      "           chat_history=[{'content': 'write a program code for fibonacci '\n",
      "                                     'series in python, use optimised way to '\n",
      "                                     'handle it',\n",
      "                          'name': 'code_executor_agent',\n",
      "                          'role': 'assistant'},\n",
      "                         {'content': \"Here's an optimized way to compute the \"\n",
      "                                     'Fibonacci series in Python using a loop '\n",
      "                                     'approach to avoid excessive recursion:\\n'\n",
      "                                     '\\n'\n",
      "                                     '```python\\n'\n",
      "                                     'def fibonacci_series(num_terms=10):\\n'\n",
      "                                     '    fib_series = [0, 1] # Initialize the '\n",
      "                                     'series with the first two terms\\n'\n",
      "                                     '    \\n'\n",
      "                                     '    for i in range(2, num_terms):\\n'\n",
      "                                     '        next_term = fib_series[i-1] + '\n",
      "                                     'fib_series[i-2]\\n'\n",
      "                                     '        fib_series.append(next_term)\\n'\n",
      "                                     '    \\n'\n",
      "                                     '    return fib_series\\n'\n",
      "                                     '\\n'\n",
      "                                     '# You can call the function with the '\n",
      "                                     'number of terms you want in the '\n",
      "                                     'Fibonacci series\\n'\n",
      "                                     'num_terms = 10\\n'\n",
      "                                     'result = fibonacci_series(num_terms)\\n'\n",
      "                                     '\\n'\n",
      "                                     'for i in range(num_terms):\\n'\n",
      "                                     '    print(f\"Term {i+1}: {result[i]}\")\\n'\n",
      "                                     '```\\n'\n",
      "                                     '\\n'\n",
      "                                     'If you would like to understand how the '\n",
      "                                     'Fibonacci series is computed step by '\n",
      "                                     \"step, let's calculate the Fibonacci \"\n",
      "                                     'series up to 10 terms:\\n'\n",
      "                                     '\\n'\n",
      "                                     '1. Initialize the series with the first '\n",
      "                                     'two terms:\\n'\n",
      "                                     '   Term 1: 0\\n'\n",
      "                                     '   Term 2: 1\\n'\n",
      "                                     '2. Compute the next terms using the '\n",
      "                                     'formula: `next_term = previous_term + '\n",
      "                                     'second_previous_term`.\\n'\n",
      "                                     '3. Term 3: 0 + 1 = 1\\n'\n",
      "                                     '4. Term 4: 1 + 1 = 2\\n'\n",
      "                                     '5. Term 5: 1 + 2 = 3\\n'\n",
      "                                     '6. Term 6: 2 + 3 = 5\\n'\n",
      "                                     '7. Term 7: 3 + 5 = 8\\n'\n",
      "                                     '8. Term 8: 5 + 8 = 13\\n'\n",
      "                                     '9. Term 9: 8 + 13 = 21\\n'\n",
      "                                     '10. Term 10: 13 + 21 = 34\\n'\n",
      "                                     '\\n'\n",
      "                                     'This code efficiently calculates the '\n",
      "                                     'Fibonacci series up to the specified '\n",
      "                                     'number of terms.',\n",
      "                          'name': 'code_writer',\n",
      "                          'role': 'user'},\n",
      "                         {'content': 'exitcode: 0 (execution succeeded)\\n'\n",
      "                                     'Code output: Term 1: 0\\n'\n",
      "                                     'Term 2: 1\\n'\n",
      "                                     'Term 3: 1\\n'\n",
      "                                     'Term 4: 2\\n'\n",
      "                                     'Term 5: 3\\n'\n",
      "                                     'Term 6: 5\\n'\n",
      "                                     'Term 7: 8\\n'\n",
      "                                     'Term 8: 13\\n'\n",
      "                                     'Term 9: 21\\n'\n",
      "                                     'Term 10: 34\\n',\n",
      "                          'name': 'code_executor_agent',\n",
      "                          'role': 'assistant'},\n",
      "                         {'content': 'The code executed successfully and '\n",
      "                                     'generated the Fibonacci series up to 10 '\n",
      "                                     'terms correctly. Each term is the sum of '\n",
      "                                     'the previous two terms, starting with 0 '\n",
      "                                     'and 1. The output clearly shows each '\n",
      "                                     'term of the series as calculated '\n",
      "                                     'according to the Fibonacci sequence. If '\n",
      "                                     'you have any more questions or need '\n",
      "                                     'further assistance, feel free to ask!',\n",
      "                          'name': 'code_writer',\n",
      "                          'role': 'user'},\n",
      "                         {'content': '',\n",
      "                          'name': 'code_executor_agent',\n",
      "                          'role': 'assistant'}],\n",
      "           summary='',\n",
      "           cost={'usage_excluding_cached_inference': {'gpt-3.5-turbo-0125': {'completion_tokens': 427,\n",
      "                                                                             'cost': 0.0010544999999999999,\n",
      "                                                                             'prompt_tokens': 828,\n",
      "                                                                             'total_tokens': 1255},\n",
      "                                                      'total_cost': 0.0010544999999999999},\n",
      "                 'usage_including_cached_inference': {'gpt-3.5-turbo-0125': {'completion_tokens': 427,\n",
      "                                                                             'cost': 0.0010544999999999999,\n",
      "                                                                             'prompt_tokens': 828,\n",
      "                                                                             'total_tokens': 1255},\n",
      "                                                      'total_cost': 0.0010544999999999999}},\n",
      "           human_input=[])\n"
     ]
    }
   ],
   "source": [
    "import pprint\n",
    "chat_result= code_executor_agent.initiate_chat(\n",
    "    code_writer_agent,message=\"write a program code for fibonacci series in python, use optimised way to handle it\"\n",
    ")\n",
    "pprint.pprint(chat_result)"
   ]
  },
  {
   "cell_type": "code",
   "execution_count": null,
   "id": "9fc40cf6-23ce-4bb5-9009-e96f431280f8",
   "metadata": {},
   "outputs": [],
   "source": []
  }
 ],
 "metadata": {
  "kernelspec": {
   "display_name": "Python 3 (ipykernel)",
   "language": "python",
   "name": "python3"
  },
  "language_info": {
   "codemirror_mode": {
    "name": "ipython",
    "version": 3
   },
   "file_extension": ".py",
   "mimetype": "text/x-python",
   "name": "python",
   "nbconvert_exporter": "python",
   "pygments_lexer": "ipython3",
   "version": "3.12.7"
  }
 },
 "nbformat": 4,
 "nbformat_minor": 5
}

{
 "cells": [
  {
   "cell_type": "code",
   "execution_count": 48,
   "id": "6fad7e40-57fd-4720-91ff-be75211cff83",
   "metadata": {},
   "outputs": [
    {
     "name": "stdout",
     "output_type": "stream",
     "text": [
      "Sub-fields in AI are:\n",
      "Machine Learning\n",
      "Neural Networks\n",
      "Vision\n",
      "Robotics\n",
      "Speech Processing\n",
      "Natural Language Processing\n"
     ]
    }
   ],
   "source": [
    "sub_fields=['Machine Learning','Neural Networks','Vision','Robotics','Speech Processing','Natural Language Processing']\n",
    "print(\"Sub-fields in AI are:\")\n",
    "class SubfieldsInAI():\n",
    "        def subfields():\n",
    "            for item in sub_fields:\n",
    "                print(item)\n",
    "SubfieldsInAI.subfields()"
   ]
  },
  {
   "cell_type": "code",
   "execution_count": 65,
   "id": "6c13714a-0600-43fb-8895-aee1f2435b65",
   "metadata": {},
   "outputs": [
    {
     "name": "stdin",
     "output_type": "stream",
     "text": [
      "Enter a number: 12\n"
     ]
    },
    {
     "name": "stdout",
     "output_type": "stream",
     "text": [
      "12 is Even Number\n"
     ]
    }
   ],
   "source": [
    "class OddEven():\n",
    "        def odd_Even(num):\n",
    "            if num%2==0:\n",
    "                print(f'{num} is Even Number')\n",
    "            else:\n",
    "                print(f'{num} is Even Number')\n",
    "                   \n",
    "check_results=OddEven.odd_Even(int(input(\"Enter a number:\")))\n",
    "check_results"
   ]
  },
  {
   "cell_type": "code",
   "execution_count": 69,
   "id": "547ec845-8b51-4415-92eb-ee11dca4c135",
   "metadata": {},
   "outputs": [
    {
     "name": "stdout",
     "output_type": "stream",
     "text": [
      "Your Gender: Male\n",
      "Your Age: 31\n",
      "ELIGIBLE\n"
     ]
    }
   ],
   "source": [
    "class ElegiblityForMarriage():\n",
    "        def eligibleForMarriage(gender,ageLimit):\n",
    "            if(gender == \"Male\" and ageLimit>21):\n",
    "                print(f\"Your Gender:\",gender)\n",
    "                print(f\"Your Age:\",ageLimit)\n",
    "                print(\"ELIGIBLE\")\n",
    "            elif(gender==\"Female\" and ageLimit>18):\n",
    "                print(f\"Your Gender:\",gender)\n",
    "                print(f\"Your Age:\",ageLimit)\n",
    "                print(\"ELIGIBLE\")\n",
    "            else:\n",
    "                print(\"NOT ELIGIBLE\")\n",
    "ElegiblityForMarriage.eligibleForMarriage('Male',31)"
   ]
  },
  {
   "cell_type": "code",
   "execution_count": 85,
   "id": "07c81725-0a8e-4d12-b4b6-a9a7dd4c5bf5",
   "metadata": {},
   "outputs": [
    {
     "name": "stdout",
     "output_type": "stream",
     "text": [
      "Subject1= 98\n",
      "Subject2= 87\n",
      "Subject3= 95\n",
      "Subject4= 95\n",
      "Subject5= 93\n",
      "Total: 468\n",
      "Percentage: 93.6\n"
     ]
    }
   ],
   "source": [
    "subjects=[98,87,95,95,93]\n",
    "print(f'Subject1=',subjects[0])\n",
    "print(f'Subject2=',subjects[1])\n",
    "print(f'Subject3=',subjects[2])\n",
    "print(f'Subject4=',subjects[3])\n",
    "print(f'Subject5=',subjects[4])\n",
    "class FindPercent():  \n",
    "    def percentage():\n",
    "        total=0\n",
    "        for mark in subjects:\n",
    "            total=total+mark\n",
    "            percent= total/len(subjects)\n",
    "        return total\n",
    "total_marks= FindPercent.percentage()\n",
    "percentage = total_marks/len(subjects)\n",
    "print(f'Total:',total_marks)\n",
    "print(f'Percentage:',percentage)"
   ]
  },
  {
   "cell_type": "code",
   "execution_count": 86,
   "id": "822d713b-e754-438a-9630-d96ba06f6bf2",
   "metadata": {},
   "outputs": [
    {
     "name": "stdout",
     "output_type": "stream",
     "text": [
      "Height: 32\n",
      "Breadth: 4\n",
      "Area formula: (Height*Breadth)/2\n",
      "Area of Triangle:  64\n",
      "Height1: 2\n",
      "Height2: 4\n",
      "Breadth: 4\n",
      "Perimeter formula: Height1+Height2+Breadth\n",
      "Perimeter of Triangle: 10\n",
      "\n"
     ]
    }
   ],
   "source": [
    "class triangle():\n",
    "        def triangle(triangle):\n",
    "            height=32\n",
    "            breadth=34\n",
    "            height1=2\n",
    "            height2=4\n",
    "            breadth=4\n",
    "            if(triangle==\"area\"):\n",
    "                print(f'Height:',height)\n",
    "                print(f'Breadth:',breadth)\n",
    "                print(f'Area formula: (Height*Breadth)/2')\n",
    "                print(f'Area of Triangle: ',int(height * breadth/2))\n",
    "            elif(triangle==\"perimeter\"):\n",
    "                print(f'Height1:',height1)\n",
    "                print(f'Height2:',height2)\n",
    "                print(f'Breadth:',breadth)\n",
    "                print(f'Perimeter formula: Height1+Height2+Breadth')\n",
    "                print(f'Perimeter of Triangle:',height1+height2+breadth) \n",
    "            else:\n",
    "                print(\"please provide valid data\")\n",
    "area= triangle.triangle(\"area\")\n",
    "perimeter= triangle.triangle(\"perimeter\")\n",
    "print(f'',)"
   ]
  },
  {
   "cell_type": "code",
   "execution_count": null,
   "id": "7d1c2a4e-afa2-4fac-a7ba-c18c9c7f94f7",
   "metadata": {},
   "outputs": [],
   "source": []
  }
 ],
 "metadata": {
  "kernelspec": {
   "display_name": "Python 3 (ipykernel)",
   "language": "python",
   "name": "python3"
  },
  "language_info": {
   "codemirror_mode": {
    "name": "ipython",
    "version": 3
   },
   "file_extension": ".py",
   "mimetype": "text/x-python",
   "name": "python",
   "nbconvert_exporter": "python",
   "pygments_lexer": "ipython3",
   "version": "3.12.7"
  }
 },
 "nbformat": 4,
 "nbformat_minor": 5
}

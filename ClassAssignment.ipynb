{
 "cells": [
  {
   "cell_type": "code",
   "execution_count": 16,
   "id": "6fad7e40-57fd-4720-91ff-be75211cff83",
   "metadata": {},
   "outputs": [
    {
     "name": "stdout",
     "output_type": "stream",
     "text": [
      "Machine Learning\n",
      "Neural Networks\n",
      "Vision\n",
      "Robotics\n",
      "Speech Processing\n",
      "Natural Language Processing\n"
     ]
    }
   ],
   "source": [
    "sub_fields=['Machine Learning','Neural Networks','Vision','Robotics','Speech Processing','Natural Language Processing']\n",
    "class SubfieldsInAI():\n",
    "        def subfields():\n",
    "            for item in sub_fields:\n",
    "                print(item)\n",
    "SubfieldsInAI.subfields()"
   ]
  },
  {
   "cell_type": "code",
   "execution_count": 29,
   "id": "6c13714a-0600-43fb-8895-aee1f2435b65",
   "metadata": {},
   "outputs": [
    {
     "name": "stdin",
     "output_type": "stream",
     "text": [
      "Enter a number: 7665\n"
     ]
    },
    {
     "data": {
      "text/plain": [
       "'Odd Number'"
      ]
     },
     "execution_count": 29,
     "metadata": {},
     "output_type": "execute_result"
    }
   ],
   "source": [
    "class OddEven():\n",
    "        def odd_Even(num):\n",
    "            if num%2==0:\n",
    "                result=\"Even Number\"\n",
    "            else:\n",
    "                result=\"Odd Number\"\n",
    "            return result       \n",
    "check_results=OddEven.odd_Even(int(input(\"Enter a number:\")))\n",
    "check_results"
   ]
  },
  {
   "cell_type": "code",
   "execution_count": 35,
   "id": "547ec845-8b51-4415-92eb-ee11dca4c135",
   "metadata": {},
   "outputs": [
    {
     "name": "stdout",
     "output_type": "stream",
     "text": [
      "ELIGIBLE\n"
     ]
    }
   ],
   "source": [
    "class ElegiblityForMarriage():\n",
    "        def eligibleForMarriage(gender,ageLimit):\n",
    "            if(gender == \"Male\" and ageLimit>21):\n",
    "                print(\"ELIGIBLE\")\n",
    "            elif(gender==\"Female\" and ageLimit>18):\n",
    "                print(\"ELIGIBLE\")\n",
    "            else:\n",
    "                print(\"NOT ELIGIBLE\")\n",
    "ElegiblityForMarriage.eligibleForMarriage('Female',31)"
   ]
  },
  {
   "cell_type": "code",
   "execution_count": 36,
   "id": "07c81725-0a8e-4d12-b4b6-a9a7dd4c5bf5",
   "metadata": {},
   "outputs": [
    {
     "data": {
      "text/plain": [
       "93.6"
      ]
     },
     "execution_count": 36,
     "metadata": {},
     "output_type": "execute_result"
    }
   ],
   "source": [
    "subjects=[98,87,95,95,93]\n",
    "class FindPercent():  \n",
    "    def percentage():\n",
    "        total=0\n",
    "        for mark in subjects:\n",
    "            total=total+mark\n",
    "            percent= total/len(subjects)\n",
    "        return percent\n",
    "FindPercent.percentage()"
   ]
  },
  {
   "cell_type": "code",
   "execution_count": 43,
   "id": "822d713b-e754-438a-9630-d96ba06f6bf2",
   "metadata": {},
   "outputs": [
    {
     "name": "stdout",
     "output_type": "stream",
     "text": [
      "64\n"
     ]
    }
   ],
   "source": [
    "class triangle():\n",
    "        def triangle(triangle):\n",
    "            height=32\n",
    "            breadth=34\n",
    "            height1=2\n",
    "            height2=4\n",
    "            breadth=4\n",
    "            if(triangle==\"area\"):\n",
    "                print(int(height * breadth/2))\n",
    "            elif(triangle==\"perimeter\"):\n",
    "                print(height1+height2+breadth) \n",
    "            else:\n",
    "                print(\"please provide valid data\")\n",
    "triangle.triangle(\"area\")"
   ]
  },
  {
   "cell_type": "code",
   "execution_count": null,
   "id": "7d1c2a4e-afa2-4fac-a7ba-c18c9c7f94f7",
   "metadata": {},
   "outputs": [],
   "source": []
  }
 ],
 "metadata": {
  "kernelspec": {
   "display_name": "Python 3 (ipykernel)",
   "language": "python",
   "name": "python3"
  },
  "language_info": {
   "codemirror_mode": {
    "name": "ipython",
    "version": 3
   },
   "file_extension": ".py",
   "mimetype": "text/x-python",
   "name": "python",
   "nbconvert_exporter": "python",
   "pygments_lexer": "ipython3",
   "version": "3.12.7"
  }
 },
 "nbformat": 4,
 "nbformat_minor": 5
}
